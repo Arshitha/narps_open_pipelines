{
 "cells": [
  {
   "cell_type": "markdown",
   "id": "killing-average",
   "metadata": {},
   "source": [
    "# FMRI DATA ANALYSIS - NARPS DATASET TEAM J7F9\n",
    "\n",
    "This notebook reproduce the analysis made by team **J7F9** for the NARPS experiment (Botvinik-Nezer & al, 2020). \n",
    "\n",
    "**To use this notebook :** \n",
    "- Download fMRIprep datas available [**here**](https://openneuro.org/datasets/ds001734/versions/1.0.4) or in [**datalad**](http://datasets.datalad.org/?dir=/workshops/nih-2017/ds001734).\n",
    "- Modify the paths:\n",
    "    - **exp_dir**: directory where the ds001734-download repository is stored\n",
    "    - **result_dir**: directory where the intermediate and final repositories will be stored\n",
    "    - **working_dir**: name of the directory where intermediate results will be stored\n",
    "    - **output_dir**: name of the directory where final results will be stored\n",
    "\n",
    "Botvinik-Nezer, R., Holzmeister, F., Camerer, C.F., Dreber, A., Huber, J., Johannesson, M., Kirchler, M., Iwanir, R., Mumford, J.A., ..., Nichols, T.E., Poldrack, R.A., Schonberg, T. (2020). Variability in the analysis of a single neuroimaging dataset by many teams. Nature. https://doi.org/10.1038/s41586-020-2314-9."
   ]
  },
  {
   "cell_type": "code",
   "execution_count": null,
   "id": "adea61d4",
   "metadata": {},
   "outputs": [],
   "source": [
    "from os.path import join as opj\n",
    "import os\n",
    "import json\n",
    "from lib import pipelines_J7F9"
   ]
  },
  {
   "cell_type": "code",
   "execution_count": null,
   "id": "excited-relief",
   "metadata": {},
   "outputs": [],
   "source": [
    "team_ID = \"J7F9\"\n",
    "\n",
    "# Important directories\n",
    "## exp_dir : where the data are stored (where the ds001734 directory is stored)\n",
    "exp_dir = '/data/NARPS/ds001734-download'\n",
    "\n",
    "## result_dir : where results are stored \n",
    "result_dir = '/local/egermani/analytic_variability_fmri/data/derived/reproduced'\n",
    "data_dir = '/local/egermani/analytic_variability_fmri/data/derived/original'\n",
    "\n",
    "## working_dir : where the intermediate outputs will be store\n",
    "working_dir = f\"NARPS-{team_ID}-reproduced/intermediate_results\"\n",
    "\n",
    "## output_dir : where the final results will be store\n",
    "output_dir = f\"NARPS-{team_ID}-reproduced\""
   ]
  },
  {
   "cell_type": "markdown",
   "id": "cathedral-commonwealth",
   "metadata": {},
   "source": [
    "## Single subject - Single run analysis"
   ]
  },
  {
   "cell_type": "markdown",
   "id": "later-target",
   "metadata": {},
   "source": [
    "### In/out Nodes + Important values"
   ]
  },
  {
   "cell_type": "code",
   "execution_count": null,
   "id": "ae49457a",
   "metadata": {},
   "outputs": [],
   "source": [
    "subject_list = [\"001\", \"002\", \"003\", \"006\", \"008\", \"009\", \"010\", \"011\", \"014\", \"015\", \"017\", \"019\", \"020\", \"021\", \"022\", \"024\", \"025\", \"026\", \"027\", \"029\", \"032\", \"033\", \"035\", \"036\", \"037\", \"038\", \"039\", \"040\", \"041\", \"043\", \"044\", \"045\", \"046\", \"047\", \"049\", \"050\", \"051\", \"052\", \"053\", \"054\", \"055\", \"056\", \"057\", \"058\", \"059\", \"060\", \"061\", \"062\", \"063\", \"064\", \"066\", \"067\", \"069\", \"070\", \"071\", \"072\", \"074\", \"075\", \"076\", \"077\", \"079\", \"080\", \"081\", \"082\", \"083\", \"084\", \"085\", \"087\",  \"090\", \"092\", \"093\", \"094\", \"095\", \"096\", \"098\", \"099\", \"102\", \"103\", \"104\", \"105\", \"106\", \"107\", \"108\", \"109\", \"110\", \"112\", \"113\", \"114\", \"115\", \"117\", \"118\", \"119\", \"120\", \"121\", \"123\", \"124\"]"
   ]
  },
  {
   "cell_type": "code",
   "execution_count": null,
   "id": "cultural-cursor",
   "metadata": {},
   "outputs": [],
   "source": [
    "contrast_list = ['ploss', 'pgain']\n",
    "n_sub = len(subject_list)"
   ]
  },
  {
   "cell_type": "markdown",
   "id": "macro-progress",
   "metadata": {},
   "source": [
    "## Third level analysis - Group level "
   ]
  },
  {
   "cell_type": "code",
   "execution_count": null,
   "id": "human-sentence",
   "metadata": {},
   "outputs": [],
   "source": [
    "l3_analysis_equalRange = pipelines_J7F9.get_l2_analysis(subject_list, n_sub, contrast_list, 'equalRange', exp_dir, \n",
    "                                                        result_dir, working_dir, output_dir, data_dir)\n",
    "\n",
    "l3_analysis_equalIndiff = pipelines_J7F9.get_l2_analysis(subject_list, n_sub, contrast_list, 'equalIndifference', \n",
    "                                                         exp_dir, result_dir, working_dir, output_dir, data_dir)\n",
    "\n",
    "l3_analysis_groupComp = pipelines_J7F9.get_l2_analysis(subject_list, n_sub, contrast_list, 'groupComp', exp_dir, \n",
    "                                                        result_dir, working_dir, output_dir, data_dir)"
   ]
  },
  {
   "cell_type": "code",
   "execution_count": null,
   "id": "14662313",
   "metadata": {},
   "outputs": [],
   "source": [
    "l3_analysis_equalRange.run()"
   ]
  },
  {
   "cell_type": "code",
   "execution_count": null,
   "id": "unlimited-suggestion",
   "metadata": {},
   "outputs": [],
   "source": [
    "l3_analysis_equalIndiff.run()"
   ]
  },
  {
   "cell_type": "code",
   "execution_count": null,
   "id": "2fb1405b",
   "metadata": {},
   "outputs": [],
   "source": [
    "l3_analysis_groupComp.run()"
   ]
  },
  {
   "cell_type": "code",
   "execution_count": null,
   "id": "2f5ce03f",
   "metadata": {},
   "outputs": [],
   "source": [
    "pipelines_J7F9.reorganize_results(result_dir, output_dir, n_sub, team_ID)"
   ]
  }
 ],
 "metadata": {
  "kernelspec": {
   "display_name": "Python 3 (ipykernel)",
   "language": "python",
   "name": "python3"
  },
  "language_info": {
   "codemirror_mode": {
    "name": "ipython",
    "version": 3
   },
   "file_extension": ".py",
   "mimetype": "text/x-python",
   "name": "python",
   "nbconvert_exporter": "python",
   "pygments_lexer": "ipython3",
   "version": "3.9.7"
  }
 },
 "nbformat": 4,
 "nbformat_minor": 5
}
