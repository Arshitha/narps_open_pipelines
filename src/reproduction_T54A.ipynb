{
 "cells": [
  {
   "cell_type": "markdown",
   "id": "killing-average",
   "metadata": {},
   "source": [
    "# FMRI DATA ANALYSIS - NARPS DATASET TEAM T45A\n",
    "\n",
    "This notebook reproduce the analysis made by team **T54A** for the NARPS experiment (Botvinik-Nezer & al, 2020). \n",
    "\n",
    "**To use this notebook :** \n",
    "- Download fMRIprep datas available [**here**](https://openneuro.org/datasets/ds001734/versions/1.0.4) or in [**datalad**](http://datasets.datalad.org/?dir=/workshops/nih-2017/ds001734).\n",
    "- Modify the paths:\n",
    "    - **exp_dir**: directory where the ds001734-download repository is stored\n",
    "    - **result_dir**: directory where the intermediate and final repositories will be stored\n",
    "    - **working_dir**: name of the directory where intermediate results will be stored\n",
    "    - **output_dir**: name of the directory where final results will be stored\n",
    "\n",
    "Botvinik-Nezer, R., Holzmeister, F., Camerer, C.F., Dreber, A., Huber, J., Johannesson, M., Kirchler, M., Iwanir, R., Mumford, J.A., ..., Nichols, T.E., Poldrack, R.A., Schonberg, T. (2020). Variability in the analysis of a single neuroimaging dataset by many teams. Nature. https://doi.org/10.1038/s41586-020-2314-9."
   ]
  },
  {
   "cell_type": "code",
   "execution_count": null,
   "id": "adea61d4",
   "metadata": {},
   "outputs": [],
   "source": [
    "from os.path import join as opj\n",
    "import os\n",
    "import json\n",
    "from lib import pipelines_T54A"
   ]
  },
  {
   "cell_type": "code",
   "execution_count": null,
   "id": "excited-relief",
   "metadata": {},
   "outputs": [],
   "source": [
    "team_ID = \"T54A\"\n",
    "\n",
    "# Important directories\n",
    "## exp_dir : where the data are stored (where the ds001734 directory is stored)\n",
    "exp_dir = '/data/NARPS/ds001734-download'\n",
    "\n",
    "## result_dir : where results are stored \n",
    "result_dir = '/local/egermani/analytic_variability_fmri/data/derived/reproduced'\n",
    "data_dir = '/local/egermani/analytic_variability_fmri/data/derived/original'\n",
    "\n",
    "## working_dir : where the intermediate outputs will be store\n",
    "working_dir = f\"NARPS-{team_ID}-reproduced/intermediate_results\"\n",
    "\n",
    "## output_dir : where the final results will be store\n",
    "output_dir = f\"NARPS-{team_ID}-reproduced\""
   ]
  },
  {
   "cell_type": "markdown",
   "id": "cathedral-commonwealth",
   "metadata": {},
   "source": [
    "## Single subject - Single run analysis"
   ]
  },
  {
   "cell_type": "markdown",
   "id": "later-target",
   "metadata": {},
   "source": [
    "### In/out Nodes + Important values"
   ]
  },
  {
   "cell_type": "code",
   "execution_count": null,
   "id": "ae49457a",
   "metadata": {},
   "outputs": [],
   "source": [
    "subject_list = [\"001\", \"002\", \"003\", \"006\", \"008\", \"009\", \"010\", \"011\",  \"014\", \"015\",  \"017\", \"019\", \"020\",\n",
    "                \"021\", \"022\", \"024\", \"025\", \"026\", \"027\", \"029\", \"032\", \"033\", \"035\", \"036\", \"037\", \"038\", \n",
    "                \"039\", \"040\", \"041\", \"043\", \"044\", \"045\", \"046\", \"047\", \"049\", \"050\", \"051\", \"052\", \"053\", \n",
    "                \"054\", \"055\", \"056\", \"057\", \"058\", \"059\", \"060\", \"061\", \"062\", \"063\", \"064\", \"066\", \"067\", \n",
    "                 \"069\", \"070\", \"071\", \"072\", \"074\", \"075\", \"076\", \"077\", \"079\", \"080\", \"081\", \n",
    "                \"082\", \"083\", \"084\", \"085\", \"087\", \"089\", \"090\", \"092\", \"093\", \"094\", \"095\", \"096\", \n",
    "                \"098\", \"102\", \"103\", \"104\", \"105\", \"106\", \"107\", \"108\", \"109\", \"110\", \"112\", \n",
    "                \"113\", \"114\", \"115\", \"117\", \"118\", \"119\", \"120\", \"121\", \"123\", \"124\"]"
   ]
  },
  {
   "cell_type": "code",
   "execution_count": null,
   "id": "cultural-cursor",
   "metadata": {},
   "outputs": [],
   "source": [
    "contrast_list = ['ploss', 'pgain']\n",
    "n_sub = len(subject_list)"
   ]
  },
  {
   "cell_type": "code",
   "execution_count": null,
   "id": "3b654109",
   "metadata": {},
   "outputs": [],
   "source": [
    "#subject_list = ['001']\n",
    "run_list = ['01', '02', '03', '04']\n",
    "#TR\n",
    "with open(opj(exp_dir, 'task-MGT_bold.json'), 'rt') as fp:\n",
    "    task_info = json.load(fp)\n",
    "TR = task_info['RepetitionTime']\n",
    "\n",
    "#FWHM to smooth\n",
    "fwhm = 4\n",
    "l1_analysis= pipelines_T54A.get_l1_analysis(subject_list, run_list, \n",
    "                                            TR, fwhm, exp_dir, output_dir, \n",
    "                                            working_dir, result_dir)"
   ]
  },
  {
   "cell_type": "code",
   "execution_count": null,
   "id": "c6f84f0e",
   "metadata": {
    "scrolled": true
   },
   "outputs": [],
   "source": [
    "l1_analysis.run('MultiProc', plugin_args={'n_procs': 4})"
   ]
  },
  {
   "cell_type": "code",
   "execution_count": null,
   "id": "9522af1e",
   "metadata": {},
   "outputs": [],
   "source": [
    "contrast_list = ['1', '2']\n",
    "l2_analysis = pipelines_T54A.get_l2_analysis(subject_list, contrast_list, run_list, exp_dir, \n",
    "                                             output_dir, working_dir, result_dir, data_dir)"
   ]
  },
  {
   "cell_type": "code",
   "execution_count": null,
   "id": "a772b047",
   "metadata": {
    "scrolled": true
   },
   "outputs": [],
   "source": [
    "l2_analysis.run('MultiProc', plugin_args={'n_procs': 4})"
   ]
  },
  {
   "cell_type": "markdown",
   "id": "macro-progress",
   "metadata": {},
   "source": [
    "## Third level analysis - Group level "
   ]
  },
  {
   "cell_type": "code",
   "execution_count": null,
   "id": "human-sentence",
   "metadata": {},
   "outputs": [],
   "source": [
    "l3_analysis_equalRange = pipelines_T54A.get_group_workflow(subject_list, n_sub, contrast_list, 'equalRange', exp_dir, output_dir, \n",
    "                       working_dir, result_dir, data_dir)\n",
    "\n",
    "l3_analysis_equalIndiff = pipelines_T54A.get_group_workflow(subject_list, n_sub, contrast_list, 'equalIndifference', \n",
    "                       exp_dir, output_dir, \n",
    "                       working_dir, result_dir, data_dir)\n",
    "\n",
    "l3_analysis_groupComp = pipelines_T54A.get_group_workflow(subject_list, n_sub, contrast_list, \"groupComp\", exp_dir, \n",
    "                                                         output_dir, working_dir, result_dir, data_dir)"
   ]
  },
  {
   "cell_type": "code",
   "execution_count": null,
   "id": "14662313",
   "metadata": {},
   "outputs": [],
   "source": [
    "l3_analysis_equalRange.run()"
   ]
  },
  {
   "cell_type": "code",
   "execution_count": null,
   "id": "unlimited-suggestion",
   "metadata": {},
   "outputs": [],
   "source": [
    "l3_analysis_equalIndiff.run()"
   ]
  },
  {
   "cell_type": "code",
   "execution_count": null,
   "id": "2fb1405b",
   "metadata": {
    "scrolled": true
   },
   "outputs": [],
   "source": [
    "l3_analysis_groupComp.run('MultiProc', plugin_args={'n_procs': 4})"
   ]
  },
  {
   "cell_type": "code",
   "execution_count": null,
   "id": "2f5ce03f",
   "metadata": {},
   "outputs": [],
   "source": [
    "pipelines_T54A.reorganize_results(result_dir, output_dir, n_sub, team_ID)"
   ]
  }
 ],
 "metadata": {
  "kernelspec": {
   "display_name": "Python 3 (ipykernel)",
   "language": "python",
   "name": "python3"
  },
  "language_info": {
   "codemirror_mode": {
    "name": "ipython",
    "version": 3
   },
   "file_extension": ".py",
   "mimetype": "text/x-python",
   "name": "python",
   "nbconvert_exporter": "python",
   "pygments_lexer": "ipython3",
   "version": "3.9.7"
  }
 },
 "nbformat": 4,
 "nbformat_minor": 5
}
